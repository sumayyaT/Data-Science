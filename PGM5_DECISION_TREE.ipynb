
  "nbformat": 4,
  "nbformat_minor": 0,
  "metadata": {
    "colab": {
      "provenance": []
    },
    "kernelspec": {
      "name": "python3",
      "display_name": "Python 3"
    },
    "language_info": {
      "name": "python"
    }
  },
  "cells": [
    {
      "cell_type": "code",
      "execution_count": null,
      "metadata": {
        "id": "kyJA0KHMHiiK"
      },
      "outputs": [],
      "source": [
        "import numpy as np\n",
        "import pandas as pd\n",
        "import matplotlib.pyplot as plt\n",
        "import sklearn\n",
        "\n",
        "from sklearn import tree\n",
        "from sklearn.tree import DecisionTreeClassifier,export_text\n",
        "from sklearn.metrics import accuracy_score\n",
        "from sklearn.model_selection import train_test_split\n",
        "from sklearn.datasets import load_iris"
      ]
    },
    {
      "cell_type": "code",
      "source": [
        "x,y=load_iris(return_X_y=True)"
      ],
      "metadata": {
        "id": "_H_Km1iCHlds"
      },
      "execution_count": null,
      "outputs": []
    },
    {
      "cell_type": "code",
      "source": [
        "x_train,x_test,y_train,y_test=train_test_split(x,y,test_size=.20)"
      ],
      "metadata": {
        "id": "NujbxydsHoLt"
      },
      "execution_count": null,
      "outputs": []
    },
    {
      "cell_type": "code",
      "source": [
        "y_test"
      ],
      "metadata": {
        "colab": {
          "base_uri": "https://localhost:8080/"
        },
        "id": "VmV6D7BCHq84",
        "outputId": "e6621a36-7b94-4fdb-ab55-b1da2ede55d2"
      },
      "execution_count": null,
      "outputs": [
        {
          "output_type": "execute_result",
          "data": {
            "text/plain": [
              "array([1, 0, 1, 0, 2, 2, 2, 1, 0, 2, 0, 2, 0, 0, 2, 0, 1, 2, 2, 2, 2, 0,\n",
              "       0, 2, 2, 2, 1, 0, 1, 1])"
            ]
          },
          "metadata": {},
          "execution_count": 4
        }
      ]
    },
    {
      "cell_type": "code",
      "source": [
        "classifier=DecisionTreeClassifier()"
      ],
      "metadata": {
        "id": "mPrMmEr-HrAQ"
      },
      "execution_count": null,
      "outputs": []
    },
    {
      "cell_type": "code",
      "source": [
        "classifier.fit(x_train,y_train)\n"
      ],
      "metadata": {
        "colab": {
          "base_uri": "https://localhost:8080/"
        },
        "id": "JKQ_wo08Hyvc",
        "outputId": "dadd25f1-7893-42f3-8669-2d17a7f38dee"
      },
      "execution_count": null,
      "outputs": [
        {
          "output_type": "execute_result",
          "data": {
            "text/plain": [
              "DecisionTreeClassifier()"
            ]
          },
          "metadata": {},
          "execution_count": 7
        }
      ]
    },
    {
      "cell_type": "code",
      "source": [
        "y_pred=classifier.predict(x_test)\n"
      ],
      "metadata": {
        "id": "UpF22tWNH6ka"
      },
      "execution_count": null,
      "outputs": []
    },
    {
      "cell_type": "code",
      "source": [
        "y_pred"
      ],
      "metadata": {
        "colab": {
          "base_uri": "https://localhost:8080/"
        },
        "id": "IHL3XeorH9PC",
        "outputId": "de190b67-15c5-4032-9d4a-fa8c9b5d2c54"
      },
      "execution_count": null,
      "outputs": [
        {
          "output_type": "execute_result",
          "data": {
            "text/plain": [
              "array([1, 0, 1, 0, 2, 2, 2, 1, 0, 2, 0, 2, 0, 0, 2, 0, 1, 2, 2, 2, 2, 0,\n",
              "       0, 2, 2, 2, 2, 0, 1, 1])"
            ]
          },
          "metadata": {},
          "execution_count": 9
        }
      ]
    },
    {
      "cell_type": "code",
      "source": [
        "ac=accuracy_score(y_test,y_pred)\n",
        "ac"
      ],
      "metadata": {
        "colab": {
          "base_uri": "https://localhost:8080/"
        },
        "id": "SnGCqsLxIAEQ",
        "outputId": "228fad30-f853-44e5-beca-4d0e4d1396ea"
      },
      "execution_count": null,
      "outputs": [
        {
          "output_type": "execute_result",
          "data": {
            "text/plain": [
              "0.9666666666666667"
            ]
          },
          "metadata": {},
          "execution_count": 10
        }
      ]
    },
    {
      "cell_type": "code",
      "source": [
        "r=export_text(classifier)"
      ],
      "metadata": {
        "id": "h3irxMOXIC_P"
      },
      "execution_count": null,
      "outputs": []
    },
    {
      "cell_type": "code",
      "source": [
        "\n",
        "print(r)"
      ],
      "metadata": {
        "colab": {
          "base_uri": "https://localhost:8080/"
        },
        "id": "TX7crhe5IFm8",
        "outputId": "15ea9d22-f0ad-445c-b347-74e992c6eca7"
      },
      "execution_count": null,
      "outputs": [
        {
          "output_type": "stream",
          "name": "stdout",
          "text": [
            "|--- feature_2 <= 2.45\n",
            "|   |--- class: 0\n",
            "|--- feature_2 >  2.45\n",
            "|   |--- feature_3 <= 1.75\n",
            "|   |   |--- feature_2 <= 4.95\n",
            "|   |   |   |--- feature_3 <= 1.65\n",
            "|   |   |   |   |--- class: 1\n",
            "|   |   |   |--- feature_3 >  1.65\n",
            "|   |   |   |   |--- class: 2\n",
            "|   |   |--- feature_2 >  4.95\n",
            "|   |   |   |--- feature_3 <= 1.55\n",
            "|   |   |   |   |--- class: 2\n",
            "|   |   |   |--- feature_3 >  1.55\n",
            "|   |   |   |   |--- feature_0 <= 6.95\n",
            "|   |   |   |   |   |--- class: 1\n",
            "|   |   |   |   |--- feature_0 >  6.95\n",
            "|   |   |   |   |   |--- class: 2\n",
            "|   |--- feature_3 >  1.75\n",
            "|   |   |--- class: 2\n",
            "\n"
          ]
        }
      ]
    },
    {
      "cell_type": "code",
      "source": [
        "tree.plot_tree(classifier,fontsize=12)"
      ],
      "metadata": {
        "id": "UqAmXgjpIKWE",
        "outputId": "b9aafc9b-d311-4508-b9e8-69382b8ba26e",
        "colab": {
          "base_uri": "https://localhost:8080/",
          "height": 489
        }
      },
      "execution_count": null,
      "outputs": [
        {
          "output_type": "execute_result",
          "data": {
            "text/plain": [
              "[Text(0.4444444444444444, 0.9166666666666666, 'X[2] <= 2.45\\ngini = 0.665\\nsamples = 120\\nvalue = [40, 43, 37]'),\n",
              " Text(0.3333333333333333, 0.75, 'gini = 0.0\\nsamples = 40\\nvalue = [40, 0, 0]'),\n",
              " Text(0.5555555555555556, 0.75, 'X[3] <= 1.75\\ngini = 0.497\\nsamples = 80\\nvalue = [0, 43, 37]'),\n",
              " Text(0.4444444444444444, 0.5833333333333334, 'X[2] <= 4.95\\ngini = 0.156\\nsamples = 47\\nvalue = [0, 43, 4]'),\n",
              " Text(0.2222222222222222, 0.4166666666666667, 'X[3] <= 1.65\\ngini = 0.046\\nsamples = 42\\nvalue = [0, 41, 1]'),\n",
              " Text(0.1111111111111111, 0.25, 'gini = 0.0\\nsamples = 41\\nvalue = [0, 41, 0]'),\n",
              " Text(0.3333333333333333, 0.25, 'gini = 0.0\\nsamples = 1\\nvalue = [0, 0, 1]'),\n",
              " Text(0.6666666666666666, 0.4166666666666667, 'X[3] <= 1.55\\ngini = 0.48\\nsamples = 5\\nvalue = [0, 2, 3]'),\n",
              " Text(0.5555555555555556, 0.25, 'gini = 0.0\\nsamples = 2\\nvalue = [0, 0, 2]'),\n",
              " Text(0.7777777777777778, 0.25, 'X[0] <= 6.95\\ngini = 0.444\\nsamples = 3\\nvalue = [0, 2, 1]'),\n",
              " Text(0.6666666666666666, 0.08333333333333333, 'gini = 0.0\\nsamples = 2\\nvalue = [0, 2, 0]'),\n",
              " Text(0.8888888888888888, 0.08333333333333333, 'gini = 0.0\\nsamples = 1\\nvalue = [0, 0, 1]'),\n",
              " Text(0.6666666666666666, 0.5833333333333334, 'gini = 0.0\\nsamples = 33\\nvalue = [0, 0, 33]')]"
            ]
          },
          "metadata": {},
          "execution_count": 13
        },
        {
          "output_type": "display_data",
          "data": {
            "text/plain": [
              "<Figure size 432x288 with 1 Axes>"
            ],
            "image/png": "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\n"
          },
          "metadata": {
            "needs_background": "light"
          }
        }
      ]
    }
  ]
}